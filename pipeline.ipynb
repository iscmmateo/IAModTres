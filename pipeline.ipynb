{
  "cells": [
    {
      "cell_type": "markdown",
      "metadata": {},
      "source": [
        "# 🧪 pipeline.ipynb — CI local en Notebook\n",
        "Ejecuta localmente el pipeline con Lint, SAST, Auditoría (opcional) y 3 suites de tests (unitarias, seguridad, integración).\n",
        "Coloca este archivo en la **raíz del proyecto**.\n"
      ]
    },
    {
      "cell_type": "code",
      "metadata": {},
      "execution_count": null,
      "outputs": [],
      "source": [
        "SKIP_AUDIT = False\n",
        "TEST_LOG = 'pytest.log'\n",
        "print('SKIP_AUDIT =', SKIP_AUDIT, '| TEST_LOG =', TEST_LOG)\n"
      ]
    },
    {
      "cell_type": "code",
      "metadata": {},
      "execution_count": null,
      "outputs": [],
      "source": [
        "import sys, subprocess, pathlib\n",
        "assert pathlib.Path('requirements.txt').exists(), 'No se encontró requirements.txt'\n",
        "print('Python:', sys.executable)\n",
        "subprocess.check_call([sys.executable, '-m', 'pip', 'install', '--upgrade', 'pip'])\n",
        "subprocess.check_call([sys.executable, '-m', 'pip', 'install', '-r', 'requirements.txt'])\n",
        "print('Deps OK')\n"
      ]
    },
    {
      "cell_type": "code",
      "metadata": {},
      "execution_count": null,
      "outputs": [],
      "source": [
        "import sys, subprocess\n",
        "subprocess.check_call([sys.executable, '-m', 'ruff', 'check', 'app']); print('Ruff OK')\n",
        "subprocess.check_call([sys.executable, '-m', 'bandit', '-q', '-r', 'app', '-x', 'tests']); print('Bandit OK')\n",
        "if not SKIP_AUDIT:\n",
        "    subprocess.check_call([sys.executable, '-m', 'pip_audit', '--strict']); print('pip-audit OK')\n",
        "else:\n",
        "    print('Saltando pip-audit')\n"
      ]
    },
    {
      "cell_type": "code",
      "metadata": {},
      "execution_count": null,
      "outputs": [],
      "source": [
        "import sys, subprocess\n",
        "subprocess.check_call([sys.executable, '-m', 'pytest', '-v', 'tests/test_password_hash.py', 'tests/test_validation.py', '--log-file', 'pytest.log', '--log-level', 'INFO'])\n",
        "subprocess.check_call([sys.executable, '-m', 'pytest', '-v', 'tests/test_jwt.py', 'tests/test_ratelimit.py', 'tests/test_security_attacks.py', '--log-file', 'pytest.log', '--log-level', 'INFO'])\n",
        "subprocess.check_call([sys.executable, '-m', 'pytest', '-v', 'tests/test_integration_auth.py', 'tests/test_auth.py', '--log-file', 'pytest.log', '--log-level', 'INFO'])\n",
        "print('Tests OK')\n"
      ]
    },
    {
      "cell_type": "code",
      "metadata": {},
      "execution_count": null,
      "outputs": [],
      "source": [
        "from pathlib import Path\n",
        "print('coverage_html:', Path('coverage_html/index.html').resolve())\n",
        "logf = Path('pytest.log'); print('pytest.log:', logf.resolve())\n",
        "if logf.exists():\n",
        "    print('\\n--- Ultimas 60 lineas ---\\n'); print('\\n'.join(logf.read_text(encoding='utf-8', errors='ignore').splitlines()[-60:]))\n",
        "else:\n",
        "    print('pytest.log no encontrado')\n"
      ]
    }
  ],
  "metadata": {
    "kernelspec": {
      "display_name": "Python 3",
      "language": "python",
      "name": "python3"
    }
  },
  "nbformat": 4,
  "nbformat_minor": 5
}