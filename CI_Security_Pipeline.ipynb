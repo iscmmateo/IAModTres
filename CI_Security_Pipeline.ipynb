{
  "cells": [
    {
      "cell_type": "markdown",
      "metadata": {},
      "source": [
        "# 🔐 Pipeline de Seguridad y Pruebas (Notebook)\n",
        "\n",
        "Este notebook ejecuta **tres suites de pruebas**:\n",
        "- **Unitarias** (objetivo ≥ 80% cobertura)\n",
        "- **Seguridad** (ataques: SQLi, XSS, autenticación/rate limit)\n",
        "- **Integración** (flujo `register → login → me → refresh`)\n",
        "\n",
        "Además corre **Bandit (SAST)** y **pip-audit** (vulnerabilidades).\n",
        "\n",
        "⚠️ **Colócalo en la raíz del proyecto** (donde está `requirements.txt`).\n"
      ]
    },
    {
      "cell_type": "markdown",
      "metadata": {},
      "source": [
        "## 0) Configuración rápida\n",
        "Puedes desactivar temporalmente la auditoría de dependencias si bloquea el flujo.\n"
      ]
    },
    {
      "cell_type": "code",
      "metadata": {},
      "execution_count": null,
      "outputs": [],
      "source": [
        "SKIP_AUDIT = False  # cambia a True si deseas saltar pip-audit\n",
        "REQ_FILE = 'requirements.txt'\n",
        "print('SKIP_AUDIT =', SKIP_AUDIT)\n"
      ]
    },
    {
      "cell_type": "markdown",
      "metadata": {},
      "source": [
        "## 1) Instalar dependencias\n"
      ]
    },
    {
      "cell_type": "code",
      "metadata": {},
      "execution_count": null,
      "outputs": [],
      "source": [
        "import sys, subprocess, pathlib\n",
        "req = pathlib.Path(REQ_FILE)\n",
        "if not req.exists():\n",
        "    raise FileNotFoundError('No se encontró requirements.txt en la raíz del proyecto.')\n",
        "print('Python:', sys.executable)\n",
        "subprocess.check_call([sys.executable, '-m', 'pip', 'install', '--upgrade', 'pip'])\n",
        "subprocess.check_call([sys.executable, '-m', 'pip', 'install', '-r', str(req)])\n",
        "print('Dependencias listas.')\n"
      ]
    },
    {
      "cell_type": "markdown",
      "metadata": {},
      "source": [
        "## 2) SAST y Auditoría\n",
        "- **Bandit**: análisis estático de seguridad.\n",
        "- **pip-audit**: vulnerabilidades en dependencias.\n"
      ]
    },
    {
      "cell_type": "code",
      "metadata": {},
      "execution_count": null,
      "outputs": [],
      "source": [
        "import sys, subprocess\n",
        "print('>> Bandit (SAST)')\n",
        "subprocess.check_call([sys.executable, '-m', 'bandit', '-q', '-r', 'app', '-x', 'tests'])\n",
        "print('Bandit OK')\n",
        "\n",
        "if SKIP_AUDIT:\n",
        "    print('Saltando pip-audit por configuración (SKIP_AUDIT=True)')\n",
        "else:\n",
        "    print('>> pip-audit (dependencias) --strict')\n",
        "    subprocess.check_call([sys.executable, '-m', 'pip_audit', '--strict'])\n",
        "    print('pip-audit OK')\n"
      ]
    },
    {
      "cell_type": "markdown",
      "metadata": {},
      "source": [
        "## 3) Pruebas **Unitarias** (objetivo cobertura ≥ 80%)\n",
        "Usa la configuración de `pytest.ini` (umbral de cobertura). Aquí filtramos por archivo `test_unit_*.py`.\n"
      ]
    },
    {
      "cell_type": "code",
      "metadata": {},
      "execution_count": null,
      "outputs": [],
      "source": [
        "import sys, subprocess\n",
        "print('>> PyTest (unitarias)')\n",
        "subprocess.check_call([sys.executable, '-m', 'pytest', '-q', 'tests/test_unit_security.py'])\n",
        "print('Unitarias OK')\n"
      ]
    },
    {
      "cell_type": "markdown",
      "metadata": {},
      "source": [
        "## 4) Pruebas de **Seguridad** (SQLi, XSS, rate limit, auth)\n"
      ]
    },
    {
      "cell_type": "code",
      "metadata": {},
      "execution_count": null,
      "outputs": [],
      "source": [
        "import sys, subprocess\n",
        "print('>> PyTest (seguridad)')\n",
        "subprocess.check_call([sys.executable, '-m', 'pytest', '-q', 'tests/test_security_attacks.py'])\n",
        "print('Seguridad OK')\n"
      ]
    },
    {
      "cell_type": "markdown",
      "metadata": {},
      "source": [
        "## 5) Pruebas de **Integración** (flujo completo)\n"
      ]
    },
    {
      "cell_type": "code",
      "metadata": {},
      "execution_count": null,
      "outputs": [],
      "source": [
        "import sys, subprocess\n",
        "print('>> PyTest (integración)')\n",
        "subprocess.check_call([sys.executable, '-m', 'pytest', '-q', 'tests/test_integration_flow.py', 'tests/test_auth.py'])\n",
        "print('Integración OK')\n"
      ]
    },
    {
      "cell_type": "markdown",
      "metadata": {},
      "source": [
        "## 6) Reporte de cobertura HTML\n",
        "Generado por `pytest.ini` como `coverage_html/`. Puedes abrir `coverage_html/index.html`.\n"
      ]
    }
  ],
  "metadata": {
    "kernelspec": {
      "display_name": "Python 3",
      "language": "python",
      "name": "python3"
    },
    "language_info": {
      "name": "python",
      "version": "3.x"
    }
  },
  "nbformat": 4,
  "nbformat_minor": 5
}