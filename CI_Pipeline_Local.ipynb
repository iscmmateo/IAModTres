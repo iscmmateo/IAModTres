{
  "cells": [
    {
      "cell_type": "markdown",
      "metadata": {},
      "source": [
        "# 🧪 CI Local en Notebook (Windows/VS Code)\n",
        "\n",
        "Este notebook ejecuta **lint (Ruff)**, **SAST (Bandit)**, **auditoría de dependencias (pip-audit)** y **tests con cobertura (≥80%)**\n",
        "directamente desde Jupyter/VS Code en tu máquina Windows.\n",
        "\n",
        "📌 **Ubícalo en la *raíz* del proyecto** (donde está `requirements.txt`).\n",
        "\n",
        "Si no tienes las herramientas instaladas, el notebook las instalará según tu `requirements.txt`.\n"
      ]
    },
    {
      "cell_type": "markdown",
      "metadata": {},
      "source": [
        "## 0) Configuración\n",
        "Puedes desactivar temporalmente la auditoría de dependencias (pip-audit) si te está bloqueando.\n"
      ]
    },
    {
      "cell_type": "code",
      "execution_count": null,
      "metadata": {},
      "outputs": [],
      "source": [
        "# Cambia a True si quieres saltar pip-audit en este run\n",
        "SKIP_AUDIT = False\n",
        "\n",
        "PROJECT_ROOT = '.'  # carpeta raíz del repo (este notebook debe estar ahí)\n",
        "REQ_FILE = 'requirements.txt'\n",
        "\n",
        "print('skip audit?:', SKIP_AUDIT)\n"
      ]
    },
    {
      "cell_type": "markdown",
      "metadata": {},
      "source": [
        "## 1) Instalar dependencias (según `requirements.txt`)\n",
        "Usa el entorno actual de Jupyter/VS Code. Si estás en un **venv**, quedará instalado ahí.\n"
      ]
    },
    {
      "cell_type": "code",
      "execution_count": null,
      "metadata": {},
      "outputs": [],
      "source": [
        "import os, sys, subprocess, shlex, pathlib\n",
        "req = pathlib.Path(REQ_FILE)\n",
        "if not req.exists():\n",
        "    raise FileNotFoundError('No se encontró requirements.txt. Coloca el notebook en la RAÍZ del proyecto.')\n",
        "\n",
        "print('Python:', sys.executable)\n",
        "subprocess.check_call([sys.executable, '-m', 'pip', 'install', '--upgrade', 'pip'])\n",
        "subprocess.check_call([sys.executable, '-m', 'pip', 'install', '-r', str(req)])\n",
        "print('Dependencias instaladas.')\n"
      ]
    },
    {
      "cell_type": "markdown",
      "metadata": {},
      "source": [
        "## 2) Lint — Ruff\n",
        "Falla si encuentra errores de estilo serios.\n"
      ]
    },
    {
      "cell_type": "code",
      "execution_count": null,
      "metadata": {},
      "outputs": [],
      "source": [
        "import sys, subprocess\n",
        "try:\n",
        "    subprocess.check_call([sys.executable, '-m', 'ruff', 'check', 'app'])\n",
        "    print('Ruff OK')\n",
        "except subprocess.CalledProcessError as e:\n",
        "    raise SystemExit('Ruff encontró problemas. Revisa la salida anterior.')\n"
      ]
    },
    {
      "cell_type": "markdown",
      "metadata": {},
      "source": [
        "## 3) SAST — Bandit\n",
        "Análisis estático de seguridad sobre el código.\n"
      ]
    },
    {
      "cell_type": "code",
      "execution_count": null,
      "metadata": {},
      "outputs": [],
      "source": [
        "import sys, subprocess\n",
        "try:\n",
        "    subprocess.check_call([sys.executable, '-m', 'bandit', '-q', '-r', 'app', '-x', 'tests'])\n",
        "    print('Bandit OK')\n",
        "except subprocess.CalledProcessError:\n",
        "    raise SystemExit('Bandit encontró problemas. Revisa la salida anterior.')\n"
      ]
    },
    {
      "cell_type": "markdown",
      "metadata": {},
      "source": [
        "## 4) Auditoría de dependencias — pip-audit *(opcional)*\n",
        "Puedes desactivarla con `SKIP_AUDIT = True` si te bloquea por vulnerabilidades de terceros.\n"
      ]
    },
    {
      "cell_type": "code",
      "execution_count": null,
      "metadata": {},
      "outputs": [],
      "source": [
        "import sys, subprocess\n",
        "if SKIP_AUDIT:\n",
        "    print('Saltando pip-audit por configuración SKIP_AUDIT=True')\n",
        "else:\n",
        "    try:\n",
        "        subprocess.check_call([sys.executable, '-m', 'pip_audit', '--strict'])\n",
        "        print('pip-audit OK')\n",
        "    except subprocess.CalledProcessError:\n",
        "        raise SystemExit('pip-audit encontró vulnerabilidades. Ajusta dependencias o ejecuta con SKIP_AUDIT=True.')\n"
      ]
    },
    {
      "cell_type": "markdown",
      "metadata": {},
      "source": [
        "## 5) Tests + cobertura (≥80%)\n",
        "Genera reporte HTML en `coverage_html/index.html` y falla si la cobertura es menor a 80%.\n"
      ]
    },
    {
      "cell_type": "code",
      "execution_count": null,
      "metadata": {},
      "outputs": [],
      "source": [
        "import sys, subprocess\n",
        "try:\n",
        "    # Usamos la configuración de pytest.ini del proyecto\n",
        "    subprocess.check_call([sys.executable, '-m', 'pytest'])\n",
        "    print('PyTest OK — Cobertura OK (>=80%).')\n",
        "except subprocess.CalledProcessError:\n",
        "    raise SystemExit('PyTest o cobertura fallaron. Revisa la salida para ver detalles.')\n"
      ]
    },
    {
      "cell_type": "markdown",
      "metadata": {},
      "source": [
        "## 6) Abrir reporte de cobertura (HTML)\n",
        "Este paso imprime la ubicación del reporte y, si estás en VS Code/Jupyter, puedes abrirlo desde el explorador de archivos.\n"
      ]
    },
    {
      "cell_type": "code",
      "execution_count": null,
      "metadata": {},
      "outputs": [],
      "source": [
        "import pathlib, webbrowser\n",
        "html = pathlib.Path('coverage_html/index.html')\n",
        "print('Reporte de cobertura:', html.resolve())\n",
        "if html.exists():\n",
        "    print('Puedes abrirlo manualmente en tu navegador.')\n",
        "else:\n",
        "    print('Aún no existe. Asegúrate de que PyTest generó coverage_html (ver pytest.ini).')\n"
      ]
    },
    {
      "cell_type": "markdown",
      "metadata": {},
      "source": [
        "---\n",
        "### Notas\n",
        "- Este notebook **no despliega** Docker; la API local de FastAPI sigue disponible con tus tareas de VS Code o `docker compose up`.\n",
        "- La documentación de tu API continúa en **http://localhost:8000/docs**.\n",
        "- Este pipeline local refleja lo del CI de GitHub: lint → SAST → audit → tests+cobertura.\n"
      ]
    }
  ],
  "metadata": {
    "kernelspec": {
      "display_name": "Python 3",
      "language": "python",
      "name": "python3"
    },
    "language_info": {
      "name": "python",
      "version": "3.x"
    }
  },
  "nbformat": 4,
  "nbformat_minor": 5
}